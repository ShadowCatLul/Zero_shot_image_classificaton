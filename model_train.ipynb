{
 "cells": [
  {
   "cell_type": "code",
   "execution_count": 1,
   "metadata": {},
   "outputs": [
    {
     "name": "stdout",
     "output_type": "stream",
     "text": [
      "CSV сохранён: merged_dataset_v2.csv\n",
      "Всего строк: 56902\n",
      "Пример первой строки: {'image_path': 'd:\\\\Магистратура\\\\ВКР\\\\CUB_200_2011_split\\\\train\\\\006.Least_Auklet\\\\Least_Auklet_0030_795116.jpg', 'class_name': '006.Least_Auklet', 'domain': 'CUB_200_2011_split', 'split': 'train'}\n"
     ]
    }
   ],
   "source": [
    "import os\n",
    "import csv\n",
    "import random\n",
    "\n",
    "# Просто список путей до корней доменов\n",
    "DATASET_DIRS = [\n",
    "    'CUB_200_2011_split',\n",
    "    'dtd_split',\n",
    "    'fungi_clef_2022_split'\n",
    "]\n",
    "\n",
    "rows = []\n",
    "\n",
    "for domain_path in DATASET_DIRS:\n",
    "    domain = os.path.basename(domain_path.rstrip('/\\\\'))\n",
    "    # Проходим по всем подпапкам - это и есть splits (train, val, test)\n",
    "    for split in os.listdir(domain_path):\n",
    "        split_path = os.path.join(domain_path, split)\n",
    "        if not os.path.isdir(split_path):\n",
    "            continue\n",
    "        for class_name in os.listdir(split_path):\n",
    "            class_path = os.path.join(split_path, class_name)\n",
    "            if not os.path.isdir(class_path):\n",
    "                continue\n",
    "            for filename in os.listdir(class_path):\n",
    "                if not filename.lower().endswith(('.jpg', '.jpeg', '.png', '.bmp', '.gif', '.webp')):\n",
    "                    continue\n",
    "                image_path = os.path.abspath(os.path.join(class_path, filename))\n",
    "                rows.append({\n",
    "                    'image_path': image_path,\n",
    "                    'class_name': class_name,\n",
    "                    'domain': domain,\n",
    "                    'split': split\n",
    "                })\n",
    "\n",
    "# Перемешиваем все строки (shuffle классов и изображений)\n",
    "random.shuffle(rows)\n",
    "\n",
    "# Итоговый CSV\n",
    "csv_path = 'merged_dataset_v2.csv'\n",
    "with open(csv_path, 'w', newline='', encoding='utf-8') as csvfile:\n",
    "    writer = csv.DictWriter(csvfile, fieldnames=['image_path', 'class_name', 'domain', 'split'])\n",
    "    writer.writeheader()\n",
    "    writer.writerows(rows)\n",
    "\n",
    "print(f'CSV сохранён: {csv_path}')\n",
    "print(f'Всего строк: {len(rows)}')\n",
    "print('Пример первой строки:', rows[0] if rows else 'Нет данных')"
   ]
  },
  {
   "cell_type": "code",
   "execution_count": 1,
   "metadata": {},
   "outputs": [
    {
     "name": "stderr",
     "output_type": "stream",
     "text": [
      "d:\\Магистратура\\ВКР\\.venv\\Lib\\site-packages\\albumentations\\__init__.py:28: UserWarning: A new version of Albumentations is available: '2.0.7' (you have '2.0.5'). Upgrade using: pip install -U albumentations. To disable automatic update checks, set the environment variable NO_ALBUMENTATIONS_UPDATE to 1.\n",
      "  check_for_updates()\n"
     ]
    }
   ],
   "source": [
    "import pandas as pd\n",
    "from PIL import Image\n",
    "from torch.utils.data import Dataset\n",
    "\n",
    "import albumentations as A\n",
    "from albumentations.pytorch import ToTensorV2\n",
    "import numpy as np\n",
    "mean=[0.485, 0.456, 0.406]\n",
    "std=[0.229, 0.224, 0.225]\n",
    "\n",
    "train_transform = A.Compose([\n",
    "    A.Resize(256, 256),\n",
    "    A.CenterCrop(224, 224),\n",
    "    A.HorizontalFlip(p=0.5),\n",
    "    A.RandomBrightnessContrast(p=0.2),\n",
    "    A.Rotate(limit=10, p=0.2),\n",
    "    A.Normalize(mean=mean, std=std),\n",
    "    ToTensorV2(),\n",
    "])\n",
    "\n",
    "# Для валидации/теста (только resize + norm)\n",
    "val_transform = A.Compose([\n",
    "    A.Resize(256, 256),\n",
    "    A.CenterCrop(224, 224),\n",
    "    A.Normalize(mean=mean, std=std),\n",
    "    ToTensorV2(),\n",
    "])\n",
    "\n",
    "class CsvImageDataset(Dataset):\n",
    "    def __init__(self, csv_path, split, transform=None, class_names=None):\n",
    "        df = pd.read_csv(csv_path)\n",
    "        self.df = df[df['split'] == split].reset_index(drop=True)\n",
    "        self.transform = transform\n",
    "\n",
    "        if class_names is None:\n",
    "            self.class_names = sorted(self.df['class_name'].unique())\n",
    "        else:\n",
    "            self.class_names = class_names\n",
    "\n",
    "        self.class_to_idx = {cls: i for i, cls in enumerate(self.class_names)}\n",
    "\n",
    "    def __len__(self):\n",
    "        return len(self.df)\n",
    "\n",
    "    def __getitem__(self, idx):\n",
    "        row = self.df.iloc[idx]\n",
    "        image = np.array(Image.open(row['image_path']).convert('RGB'))\n",
    "        if self.transform:\n",
    "            image = self.transform(image=image)['image']\n",
    "        label = self.class_to_idx[row['class_name']]\n",
    "        return image, label"
   ]
  },
  {
   "cell_type": "code",
   "execution_count": null,
   "metadata": {},
   "outputs": [],
   "source": []
  },
  {
   "cell_type": "code",
   "execution_count": null,
   "metadata": {},
   "outputs": [
    {
     "name": "stdout",
     "output_type": "stream",
     "text": [
      "Классов: 279\n"
     ]
    },
    {
     "ename": "TypeError",
     "evalue": "'set' object is not subscriptable",
     "output_type": "error",
     "traceback": [
      "\u001b[1;31m---------------------------------------------------------------------------\u001b[0m",
      "\u001b[1;31mTypeError\u001b[0m                                 Traceback (most recent call last)",
      "Cell \u001b[1;32mIn[2], line 45\u001b[0m\n\u001b[0;32m     43\u001b[0m class_names \u001b[38;5;241m=\u001b[39m train_dataset\u001b[38;5;241m.\u001b[39mclass_names\n\u001b[0;32m     44\u001b[0m \u001b[38;5;28mprint\u001b[39m(\u001b[38;5;124mf\u001b[39m\u001b[38;5;124m'\u001b[39m\u001b[38;5;124mКлассов: \u001b[39m\u001b[38;5;132;01m{\u001b[39;00m\u001b[38;5;28mlen\u001b[39m(class_names)\u001b[38;5;132;01m}\u001b[39;00m\u001b[38;5;124m'\u001b[39m)\n\u001b[1;32m---> 45\u001b[0m \u001b[38;5;28mprint\u001b[39m(\u001b[38;5;124m'\u001b[39m\u001b[38;5;124mПример классов:\u001b[39m\u001b[38;5;124m'\u001b[39m, \u001b[43mclass_names\u001b[49m\u001b[43m[\u001b[49m\u001b[43m:\u001b[49m\u001b[38;5;241;43m10\u001b[39;49m\u001b[43m]\u001b[49m)\n\u001b[0;32m     48\u001b[0m model, _, _ \u001b[38;5;241m=\u001b[39m open_clip\u001b[38;5;241m.\u001b[39mcreate_model_and_transforms(MODEL_NAME, pretrained\u001b[38;5;241m=\u001b[39mPRETRAINED)\n\u001b[0;32m     49\u001b[0m model \u001b[38;5;241m=\u001b[39m model\u001b[38;5;241m.\u001b[39mto(DEVICE)\n",
      "\u001b[1;31mTypeError\u001b[0m: 'set' object is not subscriptable"
     ]
    }
   ],
   "source": [
    "import torch\n",
    "import open_clip\n",
    "from torch.utils.data import DataLoader\n",
    "from sklearn.metrics import f1_score, accuracy_score\n",
    "from tqdm import tqdm\n",
    "\n",
    "# === Конфиги ===\n",
    "CSV_PATH = 'merged_dataset_v2.csv'\n",
    "BATCH_SIZE = 32\n",
    "NUM_WORKERS = 0\n",
    "NUM_EPOCHS = 10\n",
    "LR = 1e-5\n",
    "DEVICE = 'cuda' if torch.cuda.is_available() else 'cpu'\n",
    "MODEL_NAME = 'ViT-B-32'\n",
    "PRETRAINED = 'laion2b_s34b_b79k'\n",
    "CHECKPOINT_PATH = 'finetuned_openclip_v1.pth'\n",
    "\n",
    "SPLITS = ['train', 'val', 'test', 'обучение', 'валидация', 'тест']  # можно адаптировать под свой CSV\n",
    "\n",
    "# === 1. Инициализация трансформаций ===\n",
    "_, _, preprocess = open_clip.create_model_and_transforms(MODEL_NAME, pretrained=PRETRAINED)\n",
    "\n",
    "# === 2. Загрузка датасетов ===\n",
    "# Пример: если train и val на русском - замени 'train' на 'обучение', 'val' на 'валидация'\n",
    "train_dataset = CsvImageDataset(CSV_PATH, split='train', transform=train_transform)\n",
    "val_dataset   = CsvImageDataset(CSV_PATH, split='val',   transform=val_transform)\n",
    "\n",
    "\n",
    "\n",
    "df = pd.read_csv(CSV_PATH)\n",
    "all_classes = set(df[df['split'] == 'train']['class_name'].unique())\n",
    "# Если у тебя split называется по-другому, замени 'train' на 'обучение'\n",
    "# И аналогично для 'val', если это 'валидация'\n",
    "train_dataset = CsvImageDataset(CSV_PATH, split='train', transform=train_transform, class_names=all_classes)\n",
    "val_dataset = CsvImageDataset(CSV_PATH, split='val', transform=val_transform, class_names=all_classes)\n",
    "\n",
    "idx_to_class = {i: c for i, c in enumerate(all_classes)}\n",
    "\n",
    "train_loader  = DataLoader(train_dataset, batch_size=BATCH_SIZE, shuffle=True, num_workers=NUM_WORKERS)\n",
    "val_loader    = DataLoader(val_dataset, batch_size=BATCH_SIZE, shuffle=False, num_workers=NUM_WORKERS)\n",
    "\n",
    "\n",
    "class_names = train_dataset.class_names\n",
    "print(f'Классов: {len(class_names)}')\n",
    "print('Пример классов:', class_names[:10])\n",
    "\n",
    "train_classes = set(df[df['split'] == 'train']['class_name'].unique())\n",
    "val_classes = set(df[df['split'] == 'val']['class_name'].unique())\n",
    "unseen_classes = val_classes - train_classes\n",
    "seen_classes = train_classes & val_classes\n",
    "\n",
    "model, _, _ = open_clip.create_model_and_transforms(MODEL_NAME, pretrained=PRETRAINED)\n",
    "model = model.to(DEVICE)\n",
    "\n",
    "\n",
    "val_class_names = val_dataset.class_names\n",
    "\n",
    "tokenizer = open_clip.get_tokenizer(MODEL_NAME)\n",
    "prompts = [f\"{c}\" for c in class_names]\n",
    "with torch.no_grad():\n",
    "    text_tokens = tokenizer(prompts).to(DEVICE)\n",
    "    text_features = model.encode_text(text_tokens)\n",
    "    text_features = text_features / text_features.norm(dim=-1, keepdim=True)\n",
    "\n",
    "\n",
    "\n",
    "# === 5. Разморозка визуального энкодера (можно дообучать и текстовый по желанию) ===\n",
    "for p in model.parameters():\n",
    "    p.requires_grad = False\n",
    "for p in model.visual.parameters():\n",
    "    p.requires_grad = True\n",
    "\n",
    "optimizer = torch.optim.AdamW(filter(lambda p: p.requires_grad, model.parameters()), lr=LR)\n",
    "loss_fn = torch.nn.CrossEntropyLoss()\n"
   ]
  },
  {
   "cell_type": "code",
   "execution_count": 2,
   "metadata": {},
   "outputs": [],
   "source": [
    "import matplotlib.pyplot as plt\n",
    "\n",
    "train_losses = []\n",
    "val_accuracies = []\n",
    "val_f1s = []\n",
    "gzsl_seen_accs = []\n",
    "gzsl_unseen_accs = []\n",
    "gzsl_hmeans = []\n",
    "\n",
    "\n",
    "def compute_gzsl(trues_cls, preds_cls, seen_classes, unseen_classes):\n",
    "    seen_mask = [cls in seen_classes for cls in trues_cls]\n",
    "    unseen_mask = [cls in unseen_classes for cls in trues_cls]\n",
    "    seen_acc = sum([t == p for t, p, m in zip(\n",
    "        trues_cls, preds_cls, seen_mask) if m]) / max(sum(seen_mask), 1)\n",
    "    unseen_acc = sum([t == p for t, p, m in zip(trues_cls, preds_cls, unseen_mask) if m]) / max(sum(unseen_mask), 1)\n",
    "    h_mean = 2 * seen_acc * unseen_acc / (seen_acc + unseen_acc) if (seen_acc + unseen_acc) > 0 else 0.0\n",
    "    return seen_acc, unseen_acc, h_mean"
   ]
  },
  {
   "cell_type": "code",
   "execution_count": 4,
   "metadata": {},
   "outputs": [
    {
     "name": "stderr",
     "output_type": "stream",
     "text": [
      "Эпоха 1: 100%|██████████| 799/799 [01:51<00:00,  7.20it/s]\n"
     ]
    },
    {
     "name": "stdout",
     "output_type": "stream",
     "text": [
      "[Эпоха 1] Train loss: 1.9150\n"
     ]
    },
    {
     "name": "stderr",
     "output_type": "stream",
     "text": [
      "Валидация: 100%|██████████| 431/431 [00:34<00:00, 12.64it/s]\n"
     ]
    },
    {
     "name": "stdout",
     "output_type": "stream",
     "text": [
      "[GZSL] Seen acc: 0.0022 | Unseen acc: 0.0052 | H-mean: 0.0031\n",
      "[Валидация] Top-1 Accuracy: 0.0041, Macro F1: 0.0020\n",
      "[Время] Эпоха 1 завершена за 145.2 сек\n"
     ]
    },
    {
     "name": "stderr",
     "output_type": "stream",
     "text": [
      "Эпоха 2: 100%|██████████| 799/799 [01:53<00:00,  7.07it/s]\n"
     ]
    },
    {
     "name": "stdout",
     "output_type": "stream",
     "text": [
      "[Эпоха 2] Train loss: 0.8796\n"
     ]
    },
    {
     "name": "stderr",
     "output_type": "stream",
     "text": [
      "Валидация:  39%|███▊      | 166/431 [00:14<00:22, 11.81it/s]\n"
     ]
    },
    {
     "ename": "KeyboardInterrupt",
     "evalue": "",
     "output_type": "error",
     "traceback": [
      "\u001b[1;31m---------------------------------------------------------------------------\u001b[0m",
      "\u001b[1;31mKeyboardInterrupt\u001b[0m                         Traceback (most recent call last)",
      "Cell \u001b[1;32mIn[4], line 73\u001b[0m\n\u001b[0;32m     71\u001b[0m train_loss \u001b[38;5;241m=\u001b[39m train_one_epoch(epoch)\n\u001b[0;32m     72\u001b[0m train_losses\u001b[38;5;241m.\u001b[39mappend(train_loss)\n\u001b[1;32m---> 73\u001b[0m acc, f1, seen_acc, unseen_acc, hmean \u001b[38;5;241m=\u001b[39m \u001b[43mvalidate\u001b[49m\u001b[43m(\u001b[49m\u001b[43m)\u001b[49m\n\u001b[0;32m     74\u001b[0m epoch_time \u001b[38;5;241m=\u001b[39m time() \u001b[38;5;241m-\u001b[39m start_time\n\u001b[0;32m     75\u001b[0m \u001b[38;5;28mprint\u001b[39m(\u001b[38;5;124mf\u001b[39m\u001b[38;5;124m\"\u001b[39m\u001b[38;5;124m[Время] Эпоха \u001b[39m\u001b[38;5;132;01m{\u001b[39;00mepoch\u001b[38;5;241m+\u001b[39m\u001b[38;5;241m1\u001b[39m\u001b[38;5;132;01m}\u001b[39;00m\u001b[38;5;124m завершена за \u001b[39m\u001b[38;5;132;01m{\u001b[39;00mepoch_time\u001b[38;5;132;01m:\u001b[39;00m\u001b[38;5;124m.1f\u001b[39m\u001b[38;5;132;01m}\u001b[39;00m\u001b[38;5;124m сек\u001b[39m\u001b[38;5;124m\"\u001b[39m)\n",
      "Cell \u001b[1;32mIn[4], line 35\u001b[0m, in \u001b[0;36mvalidate\u001b[1;34m()\u001b[0m\n\u001b[0;32m     33\u001b[0m preds, trues \u001b[38;5;241m=\u001b[39m [], []\n\u001b[0;32m     34\u001b[0m \u001b[38;5;28;01mwith\u001b[39;00m torch\u001b[38;5;241m.\u001b[39mno_grad():\n\u001b[1;32m---> 35\u001b[0m \u001b[43m    \u001b[49m\u001b[38;5;28;43;01mfor\u001b[39;49;00m\u001b[43m \u001b[49m\u001b[43mimages\u001b[49m\u001b[43m,\u001b[49m\u001b[43m \u001b[49m\u001b[43mlabels\u001b[49m\u001b[43m \u001b[49m\u001b[38;5;129;43;01min\u001b[39;49;00m\u001b[43m \u001b[49m\u001b[43mtqdm\u001b[49m\u001b[43m(\u001b[49m\u001b[43mval_loader\u001b[49m\u001b[43m,\u001b[49m\u001b[43m \u001b[49m\u001b[43mdesc\u001b[49m\u001b[38;5;241;43m=\u001b[39;49m\u001b[38;5;124;43m'\u001b[39;49m\u001b[38;5;124;43mВалидация\u001b[39;49m\u001b[38;5;124;43m'\u001b[39;49m\u001b[43m)\u001b[49m\u001b[43m:\u001b[49m\n\u001b[0;32m     36\u001b[0m \u001b[43m        \u001b[49m\u001b[43mimages\u001b[49m\u001b[43m \u001b[49m\u001b[38;5;241;43m=\u001b[39;49m\u001b[43m \u001b[49m\u001b[43mimages\u001b[49m\u001b[38;5;241;43m.\u001b[39;49m\u001b[43mto\u001b[49m\u001b[43m(\u001b[49m\u001b[43mDEVICE\u001b[49m\u001b[43m)\u001b[49m\n\u001b[0;32m     37\u001b[0m \u001b[43m        \u001b[49m\u001b[43mlabels\u001b[49m\u001b[43m \u001b[49m\u001b[38;5;241;43m=\u001b[39;49m\u001b[43m \u001b[49m\u001b[43mlabels\u001b[49m\u001b[38;5;241;43m.\u001b[39;49m\u001b[43mto\u001b[49m\u001b[43m(\u001b[49m\u001b[43mDEVICE\u001b[49m\u001b[43m)\u001b[49m\n",
      "File \u001b[1;32md:\\Магистратура\\ВКР\\.venv\\Lib\\site-packages\\tqdm\\std.py:1181\u001b[0m, in \u001b[0;36mtqdm.__iter__\u001b[1;34m(self)\u001b[0m\n\u001b[0;32m   1178\u001b[0m time \u001b[38;5;241m=\u001b[39m \u001b[38;5;28mself\u001b[39m\u001b[38;5;241m.\u001b[39m_time\n\u001b[0;32m   1180\u001b[0m \u001b[38;5;28;01mtry\u001b[39;00m:\n\u001b[1;32m-> 1181\u001b[0m \u001b[43m    \u001b[49m\u001b[38;5;28;43;01mfor\u001b[39;49;00m\u001b[43m \u001b[49m\u001b[43mobj\u001b[49m\u001b[43m \u001b[49m\u001b[38;5;129;43;01min\u001b[39;49;00m\u001b[43m \u001b[49m\u001b[43miterable\u001b[49m\u001b[43m:\u001b[49m\n\u001b[0;32m   1182\u001b[0m \u001b[43m        \u001b[49m\u001b[38;5;28;43;01myield\u001b[39;49;00m\u001b[43m \u001b[49m\u001b[43mobj\u001b[49m\n\u001b[0;32m   1183\u001b[0m \u001b[43m        \u001b[49m\u001b[38;5;66;43;03m# Update and possibly print the progressbar.\u001b[39;49;00m\n\u001b[0;32m   1184\u001b[0m \u001b[43m        \u001b[49m\u001b[38;5;66;43;03m# Note: does not call self.update(1) for speed optimisation.\u001b[39;49;00m\n",
      "File \u001b[1;32md:\\Магистратура\\ВКР\\.venv\\Lib\\site-packages\\torch\\utils\\data\\dataloader.py:708\u001b[0m, in \u001b[0;36m_BaseDataLoaderIter.__next__\u001b[1;34m(self)\u001b[0m\n\u001b[0;32m    705\u001b[0m \u001b[38;5;28;01mif\u001b[39;00m \u001b[38;5;28mself\u001b[39m\u001b[38;5;241m.\u001b[39m_sampler_iter \u001b[38;5;129;01mis\u001b[39;00m \u001b[38;5;28;01mNone\u001b[39;00m:\n\u001b[0;32m    706\u001b[0m     \u001b[38;5;66;03m# TODO(https://github.com/pytorch/pytorch/issues/76750)\u001b[39;00m\n\u001b[0;32m    707\u001b[0m     \u001b[38;5;28mself\u001b[39m\u001b[38;5;241m.\u001b[39m_reset()  \u001b[38;5;66;03m# type: ignore[call-arg]\u001b[39;00m\n\u001b[1;32m--> 708\u001b[0m data \u001b[38;5;241m=\u001b[39m \u001b[38;5;28;43mself\u001b[39;49m\u001b[38;5;241;43m.\u001b[39;49m\u001b[43m_next_data\u001b[49m\u001b[43m(\u001b[49m\u001b[43m)\u001b[49m\n\u001b[0;32m    709\u001b[0m \u001b[38;5;28mself\u001b[39m\u001b[38;5;241m.\u001b[39m_num_yielded \u001b[38;5;241m+\u001b[39m\u001b[38;5;241m=\u001b[39m \u001b[38;5;241m1\u001b[39m\n\u001b[0;32m    710\u001b[0m \u001b[38;5;28;01mif\u001b[39;00m (\n\u001b[0;32m    711\u001b[0m     \u001b[38;5;28mself\u001b[39m\u001b[38;5;241m.\u001b[39m_dataset_kind \u001b[38;5;241m==\u001b[39m _DatasetKind\u001b[38;5;241m.\u001b[39mIterable\n\u001b[0;32m    712\u001b[0m     \u001b[38;5;129;01mand\u001b[39;00m \u001b[38;5;28mself\u001b[39m\u001b[38;5;241m.\u001b[39m_IterableDataset_len_called \u001b[38;5;129;01mis\u001b[39;00m \u001b[38;5;129;01mnot\u001b[39;00m \u001b[38;5;28;01mNone\u001b[39;00m\n\u001b[0;32m    713\u001b[0m     \u001b[38;5;129;01mand\u001b[39;00m \u001b[38;5;28mself\u001b[39m\u001b[38;5;241m.\u001b[39m_num_yielded \u001b[38;5;241m>\u001b[39m \u001b[38;5;28mself\u001b[39m\u001b[38;5;241m.\u001b[39m_IterableDataset_len_called\n\u001b[0;32m    714\u001b[0m ):\n",
      "File \u001b[1;32md:\\Магистратура\\ВКР\\.venv\\Lib\\site-packages\\torch\\utils\\data\\dataloader.py:764\u001b[0m, in \u001b[0;36m_SingleProcessDataLoaderIter._next_data\u001b[1;34m(self)\u001b[0m\n\u001b[0;32m    762\u001b[0m \u001b[38;5;28;01mdef\u001b[39;00m\u001b[38;5;250m \u001b[39m\u001b[38;5;21m_next_data\u001b[39m(\u001b[38;5;28mself\u001b[39m):\n\u001b[0;32m    763\u001b[0m     index \u001b[38;5;241m=\u001b[39m \u001b[38;5;28mself\u001b[39m\u001b[38;5;241m.\u001b[39m_next_index()  \u001b[38;5;66;03m# may raise StopIteration\u001b[39;00m\n\u001b[1;32m--> 764\u001b[0m     data \u001b[38;5;241m=\u001b[39m \u001b[38;5;28;43mself\u001b[39;49m\u001b[38;5;241;43m.\u001b[39;49m\u001b[43m_dataset_fetcher\u001b[49m\u001b[38;5;241;43m.\u001b[39;49m\u001b[43mfetch\u001b[49m\u001b[43m(\u001b[49m\u001b[43mindex\u001b[49m\u001b[43m)\u001b[49m  \u001b[38;5;66;03m# may raise StopIteration\u001b[39;00m\n\u001b[0;32m    765\u001b[0m     \u001b[38;5;28;01mif\u001b[39;00m \u001b[38;5;28mself\u001b[39m\u001b[38;5;241m.\u001b[39m_pin_memory:\n\u001b[0;32m    766\u001b[0m         data \u001b[38;5;241m=\u001b[39m _utils\u001b[38;5;241m.\u001b[39mpin_memory\u001b[38;5;241m.\u001b[39mpin_memory(data, \u001b[38;5;28mself\u001b[39m\u001b[38;5;241m.\u001b[39m_pin_memory_device)\n",
      "File \u001b[1;32md:\\Магистратура\\ВКР\\.venv\\Lib\\site-packages\\torch\\utils\\data\\_utils\\fetch.py:52\u001b[0m, in \u001b[0;36m_MapDatasetFetcher.fetch\u001b[1;34m(self, possibly_batched_index)\u001b[0m\n\u001b[0;32m     50\u001b[0m         data \u001b[38;5;241m=\u001b[39m \u001b[38;5;28mself\u001b[39m\u001b[38;5;241m.\u001b[39mdataset\u001b[38;5;241m.\u001b[39m__getitems__(possibly_batched_index)\n\u001b[0;32m     51\u001b[0m     \u001b[38;5;28;01melse\u001b[39;00m:\n\u001b[1;32m---> 52\u001b[0m         data \u001b[38;5;241m=\u001b[39m \u001b[43m[\u001b[49m\u001b[38;5;28;43mself\u001b[39;49m\u001b[38;5;241;43m.\u001b[39;49m\u001b[43mdataset\u001b[49m\u001b[43m[\u001b[49m\u001b[43midx\u001b[49m\u001b[43m]\u001b[49m\u001b[43m \u001b[49m\u001b[38;5;28;43;01mfor\u001b[39;49;00m\u001b[43m \u001b[49m\u001b[43midx\u001b[49m\u001b[43m \u001b[49m\u001b[38;5;129;43;01min\u001b[39;49;00m\u001b[43m \u001b[49m\u001b[43mpossibly_batched_index\u001b[49m\u001b[43m]\u001b[49m\n\u001b[0;32m     53\u001b[0m \u001b[38;5;28;01melse\u001b[39;00m:\n\u001b[0;32m     54\u001b[0m     data \u001b[38;5;241m=\u001b[39m \u001b[38;5;28mself\u001b[39m\u001b[38;5;241m.\u001b[39mdataset[possibly_batched_index]\n",
      "File \u001b[1;32md:\\Магистратура\\ВКР\\.venv\\Lib\\site-packages\\torch\\utils\\data\\_utils\\fetch.py:52\u001b[0m, in \u001b[0;36m<listcomp>\u001b[1;34m(.0)\u001b[0m\n\u001b[0;32m     50\u001b[0m         data \u001b[38;5;241m=\u001b[39m \u001b[38;5;28mself\u001b[39m\u001b[38;5;241m.\u001b[39mdataset\u001b[38;5;241m.\u001b[39m__getitems__(possibly_batched_index)\n\u001b[0;32m     51\u001b[0m     \u001b[38;5;28;01melse\u001b[39;00m:\n\u001b[1;32m---> 52\u001b[0m         data \u001b[38;5;241m=\u001b[39m [\u001b[38;5;28;43mself\u001b[39;49m\u001b[38;5;241;43m.\u001b[39;49m\u001b[43mdataset\u001b[49m\u001b[43m[\u001b[49m\u001b[43midx\u001b[49m\u001b[43m]\u001b[49m \u001b[38;5;28;01mfor\u001b[39;00m idx \u001b[38;5;129;01min\u001b[39;00m possibly_batched_index]\n\u001b[0;32m     53\u001b[0m \u001b[38;5;28;01melse\u001b[39;00m:\n\u001b[0;32m     54\u001b[0m     data \u001b[38;5;241m=\u001b[39m \u001b[38;5;28mself\u001b[39m\u001b[38;5;241m.\u001b[39mdataset[possibly_batched_index]\n",
      "Cell \u001b[1;32mIn[1], line 43\u001b[0m, in \u001b[0;36mCsvImageDataset.__getitem__\u001b[1;34m(self, idx)\u001b[0m\n\u001b[0;32m     41\u001b[0m \u001b[38;5;28;01mdef\u001b[39;00m\u001b[38;5;250m \u001b[39m\u001b[38;5;21m__getitem__\u001b[39m(\u001b[38;5;28mself\u001b[39m, idx):\n\u001b[0;32m     42\u001b[0m     row \u001b[38;5;241m=\u001b[39m \u001b[38;5;28mself\u001b[39m\u001b[38;5;241m.\u001b[39mdf\u001b[38;5;241m.\u001b[39miloc[idx]\n\u001b[1;32m---> 43\u001b[0m     image \u001b[38;5;241m=\u001b[39m np\u001b[38;5;241m.\u001b[39marray(\u001b[43mImage\u001b[49m\u001b[38;5;241;43m.\u001b[39;49m\u001b[43mopen\u001b[49m\u001b[43m(\u001b[49m\u001b[43mrow\u001b[49m\u001b[43m[\u001b[49m\u001b[38;5;124;43m'\u001b[39;49m\u001b[38;5;124;43mimage_path\u001b[39;49m\u001b[38;5;124;43m'\u001b[39;49m\u001b[43m]\u001b[49m\u001b[43m)\u001b[49m\u001b[38;5;241;43m.\u001b[39;49m\u001b[43mconvert\u001b[49m\u001b[43m(\u001b[49m\u001b[38;5;124;43m'\u001b[39;49m\u001b[38;5;124;43mRGB\u001b[39;49m\u001b[38;5;124;43m'\u001b[39;49m\u001b[43m)\u001b[49m)\n\u001b[0;32m     44\u001b[0m     \u001b[38;5;28;01mif\u001b[39;00m \u001b[38;5;28mself\u001b[39m\u001b[38;5;241m.\u001b[39mtransform:\n\u001b[0;32m     45\u001b[0m         \u001b[38;5;66;03m# Albumentations требует dict с ключом 'image'\u001b[39;00m\n\u001b[0;32m     46\u001b[0m         image \u001b[38;5;241m=\u001b[39m \u001b[38;5;28mself\u001b[39m\u001b[38;5;241m.\u001b[39mtransform(image\u001b[38;5;241m=\u001b[39mimage)[\u001b[38;5;124m'\u001b[39m\u001b[38;5;124mimage\u001b[39m\u001b[38;5;124m'\u001b[39m]\n",
      "File \u001b[1;32md:\\Магистратура\\ВКР\\.venv\\Lib\\site-packages\\PIL\\Image.py:984\u001b[0m, in \u001b[0;36mImage.convert\u001b[1;34m(self, mode, matrix, dither, palette, colors)\u001b[0m\n\u001b[0;32m    981\u001b[0m \u001b[38;5;28;01mif\u001b[39;00m mode \u001b[38;5;129;01min\u001b[39;00m (\u001b[38;5;124m\"\u001b[39m\u001b[38;5;124mBGR;15\u001b[39m\u001b[38;5;124m\"\u001b[39m, \u001b[38;5;124m\"\u001b[39m\u001b[38;5;124mBGR;16\u001b[39m\u001b[38;5;124m\"\u001b[39m, \u001b[38;5;124m\"\u001b[39m\u001b[38;5;124mBGR;24\u001b[39m\u001b[38;5;124m\"\u001b[39m):\n\u001b[0;32m    982\u001b[0m     deprecate(mode, \u001b[38;5;241m12\u001b[39m)\n\u001b[1;32m--> 984\u001b[0m \u001b[38;5;28;43mself\u001b[39;49m\u001b[38;5;241;43m.\u001b[39;49m\u001b[43mload\u001b[49m\u001b[43m(\u001b[49m\u001b[43m)\u001b[49m\n\u001b[0;32m    986\u001b[0m has_transparency \u001b[38;5;241m=\u001b[39m \u001b[38;5;124m\"\u001b[39m\u001b[38;5;124mtransparency\u001b[39m\u001b[38;5;124m\"\u001b[39m \u001b[38;5;129;01min\u001b[39;00m \u001b[38;5;28mself\u001b[39m\u001b[38;5;241m.\u001b[39minfo\n\u001b[0;32m    987\u001b[0m \u001b[38;5;28;01mif\u001b[39;00m \u001b[38;5;129;01mnot\u001b[39;00m mode \u001b[38;5;129;01mand\u001b[39;00m \u001b[38;5;28mself\u001b[39m\u001b[38;5;241m.\u001b[39mmode \u001b[38;5;241m==\u001b[39m \u001b[38;5;124m\"\u001b[39m\u001b[38;5;124mP\u001b[39m\u001b[38;5;124m\"\u001b[39m:\n\u001b[0;32m    988\u001b[0m     \u001b[38;5;66;03m# determine default mode\u001b[39;00m\n",
      "File \u001b[1;32md:\\Магистратура\\ВКР\\.venv\\Lib\\site-packages\\PIL\\ImageFile.py:280\u001b[0m, in \u001b[0;36mImageFile.load\u001b[1;34m(self)\u001b[0m\n\u001b[0;32m    278\u001b[0m \u001b[38;5;28;01mwhile\u001b[39;00m \u001b[38;5;28;01mTrue\u001b[39;00m:\n\u001b[0;32m    279\u001b[0m     \u001b[38;5;28;01mtry\u001b[39;00m:\n\u001b[1;32m--> 280\u001b[0m         s \u001b[38;5;241m=\u001b[39m \u001b[43mread\u001b[49m\u001b[43m(\u001b[49m\u001b[38;5;28;43mself\u001b[39;49m\u001b[38;5;241;43m.\u001b[39;49m\u001b[43mdecodermaxblock\u001b[49m\u001b[43m)\u001b[49m\n\u001b[0;32m    281\u001b[0m     \u001b[38;5;28;01mexcept\u001b[39;00m (\u001b[38;5;167;01mIndexError\u001b[39;00m, struct\u001b[38;5;241m.\u001b[39merror) \u001b[38;5;28;01mas\u001b[39;00m e:\n\u001b[0;32m    282\u001b[0m         \u001b[38;5;66;03m# truncated png/gif\u001b[39;00m\n\u001b[0;32m    283\u001b[0m         \u001b[38;5;28;01mif\u001b[39;00m LOAD_TRUNCATED_IMAGES:\n",
      "File \u001b[1;32md:\\Магистратура\\ВКР\\.venv\\Lib\\site-packages\\PIL\\JpegImagePlugin.py:414\u001b[0m, in \u001b[0;36mJpegImageFile.load_read\u001b[1;34m(self, read_bytes)\u001b[0m\n\u001b[0;32m    408\u001b[0m \u001b[38;5;28;01mdef\u001b[39;00m\u001b[38;5;250m \u001b[39m\u001b[38;5;21mload_read\u001b[39m(\u001b[38;5;28mself\u001b[39m, read_bytes: \u001b[38;5;28mint\u001b[39m) \u001b[38;5;241m-\u001b[39m\u001b[38;5;241m>\u001b[39m \u001b[38;5;28mbytes\u001b[39m:\n\u001b[0;32m    409\u001b[0m \u001b[38;5;250m    \u001b[39m\u001b[38;5;124;03m\"\"\"\u001b[39;00m\n\u001b[0;32m    410\u001b[0m \u001b[38;5;124;03m    internal: read more image data\u001b[39;00m\n\u001b[0;32m    411\u001b[0m \u001b[38;5;124;03m    For premature EOF and LOAD_TRUNCATED_IMAGES adds EOI marker\u001b[39;00m\n\u001b[0;32m    412\u001b[0m \u001b[38;5;124;03m    so libjpeg can finish decoding\u001b[39;00m\n\u001b[0;32m    413\u001b[0m \u001b[38;5;124;03m    \"\"\"\u001b[39;00m\n\u001b[1;32m--> 414\u001b[0m     s \u001b[38;5;241m=\u001b[39m \u001b[38;5;28mself\u001b[39m\u001b[38;5;241m.\u001b[39mfp\u001b[38;5;241m.\u001b[39mread(read_bytes)\n\u001b[0;32m    416\u001b[0m     \u001b[38;5;28;01mif\u001b[39;00m \u001b[38;5;129;01mnot\u001b[39;00m s \u001b[38;5;129;01mand\u001b[39;00m ImageFile\u001b[38;5;241m.\u001b[39mLOAD_TRUNCATED_IMAGES \u001b[38;5;129;01mand\u001b[39;00m \u001b[38;5;129;01mnot\u001b[39;00m \u001b[38;5;28mhasattr\u001b[39m(\u001b[38;5;28mself\u001b[39m, \u001b[38;5;124m\"\u001b[39m\u001b[38;5;124m_ended\u001b[39m\u001b[38;5;124m\"\u001b[39m):\n\u001b[0;32m    417\u001b[0m         \u001b[38;5;66;03m# Premature EOF.\u001b[39;00m\n\u001b[0;32m    418\u001b[0m         \u001b[38;5;66;03m# Pretend file is finished adding EOI marker\u001b[39;00m\n\u001b[0;32m    419\u001b[0m         \u001b[38;5;28mself\u001b[39m\u001b[38;5;241m.\u001b[39m_ended \u001b[38;5;241m=\u001b[39m \u001b[38;5;28;01mTrue\u001b[39;00m\n",
      "\u001b[1;31mKeyboardInterrupt\u001b[0m: "
     ]
    }
   ],
   "source": [
    "from time import time\n",
    "\n",
    "\n",
    "val_class_names = val_dataset.class_names  # это все классы, включая unseen\n",
    "idx_to_class = {i: c for i, c in enumerate(val_class_names)}\n",
    "\n",
    "def train_one_epoch(epoch):\n",
    "    model.train()\n",
    "    total_loss = 0\n",
    "    pbar = tqdm(train_loader, desc=f\"Эпоха {epoch+1}\")\n",
    "    for images, labels in pbar:\n",
    "        images, labels = images.to(DEVICE), labels.to(DEVICE)\n",
    "\n",
    "        image_features = model.encode_image(images)\n",
    "        image_features = image_features / image_features.norm(dim=-1, keepdim=True)\n",
    "\n",
    "        logits = 100. * image_features @ text_features.T\n",
    "        loss = loss_fn(logits, labels)\n",
    "\n",
    "        optimizer.zero_grad()\n",
    "        loss.backward()\n",
    "        optimizer.step()\n",
    "\n",
    "        total_loss += loss.item()\n",
    "\n",
    "    avg_loss = total_loss / len(train_loader)\n",
    "    print(f\"[Эпоха {epoch+1}] Train loss: {avg_loss:.4f}\")\n",
    "    return avg_loss\n",
    "\n",
    "\n",
    "def validate():\n",
    "    model.eval()\n",
    "    preds, trues = [], []\n",
    "    with torch.no_grad():\n",
    "        for images, labels in tqdm(val_loader, desc='Валидация'):\n",
    "            images = images.to(DEVICE)\n",
    "            labels = labels.to(DEVICE)\n",
    "\n",
    "            image_features = model.encode_image(images)\n",
    "            image_features = image_features / image_features.norm(dim=-1, keepdim=True)\n",
    "\n",
    "            logits = 100. * image_features @ text_features.T\n",
    "            pred = logits.argmax(dim=1).cpu().tolist()\n",
    "            preds.extend(pred)\n",
    "            trues.extend(labels.cpu().tolist())\n",
    "\n",
    "    # Преобразование в имена классов\n",
    "    trues_cls = [idx_to_class[i] for i in trues]\n",
    "    preds_cls = [idx_to_class[i] for i in preds]\n",
    "\n",
    "    # GZSL\n",
    "    seen_acc, unseen_acc, h_mean = compute_gzsl(trues_cls, preds_cls, seen_classes, unseen_classes)\n",
    "    print(f\"[GZSL] Seen acc: {seen_acc:.4f} | Unseen acc: {unseen_acc:.4f} | H-mean: {h_mean:.4f}\")\n",
    "    gzsl_seen_accs.append(seen_acc)\n",
    "    gzsl_unseen_accs.append(unseen_acc)\n",
    "    gzsl_hmeans.append(h_mean)\n",
    "\n",
    "    # Accuracy & F1\n",
    "    acc = accuracy_score(trues, preds)\n",
    "    f1 = f1_score(trues, preds, average='macro')\n",
    "    val_accuracies.append(acc)\n",
    "    val_f1s.append(f1)\n",
    "\n",
    "    print(f\"[Валидация] Top-1 Accuracy: {acc:.4f}, Macro F1: {f1:.4f}\")\n",
    "    return acc, f1, seen_acc, unseen_acc, h_mean\n",
    "\n",
    "\n",
    "# === Основной цикл обучения ===\n",
    "for epoch in range(NUM_EPOCHS):\n",
    "    start_time = time()\n",
    "    train_loss = train_one_epoch(epoch)\n",
    "    train_losses.append(train_loss)\n",
    "    acc, f1, seen_acc, unseen_acc, hmean = validate()\n",
    "    epoch_time = time() - start_time\n",
    "    print(f\"[Время] Эпоха {epoch+1} завершена за {epoch_time:.1f} сек\")\n",
    "\n",
    "    # Сохраняем модель каждые 10 эпох\n",
    "    if (epoch + 1) % 10 == 0:\n",
    "        checkpoint_path = f\"{CHECKPOINT_PATH}_epoch{epoch+1}.pth\"\n",
    "        torch.save(model.state_dict(), checkpoint_path)\n",
    "        print(f\"Сохранён чекпоинт: {checkpoint_path}\")\n",
    "\n",
    "# Финальное сохранение модели\n",
    "torch.save(model.state_dict(), CHECKPOINT_PATH)\n",
    "print(\"Обучение завершено. Модель сохранена.\")\n"
   ]
  },
  {
   "cell_type": "code",
   "execution_count": 3,
   "metadata": {},
   "outputs": [],
   "source": [
    "epochs = range(1, len(train_losses) + 1)\n",
    "\n",
    "plt.figure(figsize=(10,4))\n",
    "plt.subplot(1,2,1)\n",
    "plt.plot(epochs, train_losses, label='Train Loss')\n",
    "plt.xlabel('Epoch')\n",
    "plt.ylabel('Loss')\n",
    "plt.title('Train Loss')\n",
    "plt.grid()\n",
    "plt.legend()\n",
    "\n",
    "plt.subplot(1,2,2)\n",
    "plt.plot(epochs, val_accuracies, label='Val Accuracy')\n",
    "plt.plot(epochs, val_f1s, label='Val Macro F1')\n",
    "plt.xlabel('Epoch')\n",
    "plt.ylabel('Metric')\n",
    "plt.title('Validation Metrics')\n",
    "plt.grid()\n",
    "plt.legend()\n",
    "\n",
    "plt.tight_layout()\n",
    "plt.savefig('metrics_plot.png')\n",
    "plt.show()"
   ]
  },
  {
   "cell_type": "code",
   "execution_count": 4,
   "metadata": {},
   "outputs": [],
   "source": [
    "# model.train()\n",
    "# total_loss = 0\n",
    "# for images, labels in tqdm(train_loader, desc=f\"Эпоха {0}\"):\n",
    "#     images, labels = images.to(DEVICE), labels.to(DEVICE)\n",
    "#     #print(images, labels)\n",
    "#     with torch.no_grad():\n",
    "#         text_features = model.encode_text(text_tokens)\n",
    "#         text_features = text_features / text_features.norm(dim=-1, keepdim=True)\n",
    "#     image_features = model.encode_image(images)\n",
    "#     image_features = image_features / image_features.norm(dim=-1, keepdim=True)\n",
    "#     logits = 100. * image_features @ text_features.T\n",
    "#     loss = loss_fn(logits, labels)\n",
    "#     optimizer.zero_grad()\n",
    "#     loss.backward()\n",
    "#     optimizer.step()\n",
    "#     total_loss += loss.item()\n",
    "# print(f\"Train loss: {total_loss/len(train_loader):.4f}\")"
   ]
  },
  {
   "cell_type": "code",
   "execution_count": 5,
   "metadata": {},
   "outputs": [],
   "source": [
    "# model.eval()\n",
    "# preds, trues = [], []\n",
    "# with torch.no_grad():\n",
    "#     for images, labels in val_loader:\n",
    "#         images = images.to(DEVICE)\n",
    "#         text_features = model.encode_text(text_tokens)\n",
    "#         text_features = text_features / text_features.norm(dim=-1, keepdim=True)\n",
    "#         image_features = model.encode_image(images)\n",
    "#         image_features = image_features / image_features.norm(dim=-1, keepdim=True)\n",
    "#         logits = 100. * image_features @ text_features.T\n",
    "#         pred = logits.argmax(dim=1).cpu().numpy()\n",
    "#         preds.extend(pred)\n",
    "#         trues.extend(labels.cpu().numpy())\n",
    "# acc = accuracy_score(trues, preds)\n",
    "# macro_f1 = f1_score(trues, preds, average='macro')"
   ]
  },
  {
   "cell_type": "code",
   "execution_count": null,
   "metadata": {},
   "outputs": [],
   "source": [
    "\n"
   ]
  },
  {
   "cell_type": "code",
   "execution_count": 6,
   "metadata": {},
   "outputs": [],
   "source": []
  },
  {
   "cell_type": "code",
   "execution_count": 7,
   "metadata": {},
   "outputs": [
    {
     "name": "stderr",
     "output_type": "stream",
     "text": [
      "Эпоха 1: 100%|██████████| 799/799 [04:42<00:00,  2.83it/s]\n"
     ]
    },
    {
     "name": "stdout",
     "output_type": "stream",
     "text": [
      "Train loss: 2.1190\n",
      "[GZSL] Seen acc: 0.7671 | Unseen acc: 0.0000 | H-mean: 0.0000\n",
      "[Валидация] Top-1 Accuracy: 0.5147, Macro F1: 0.4998\n"
     ]
    },
    {
     "name": "stderr",
     "output_type": "stream",
     "text": [
      "Эпоха 2: 100%|██████████| 799/799 [04:02<00:00,  3.30it/s]\n"
     ]
    },
    {
     "name": "stdout",
     "output_type": "stream",
     "text": [
      "Train loss: 1.1502\n",
      "[GZSL] Seen acc: 0.8243 | Unseen acc: 0.0000 | H-mean: 0.0000\n",
      "[Валидация] Top-1 Accuracy: 0.5530, Macro F1: 0.5583\n"
     ]
    },
    {
     "name": "stderr",
     "output_type": "stream",
     "text": [
      "Эпоха 3: 100%|██████████| 799/799 [03:56<00:00,  3.38it/s]\n"
     ]
    },
    {
     "name": "stdout",
     "output_type": "stream",
     "text": [
      "Train loss: 0.8047\n",
      "[GZSL] Seen acc: 0.8814 | Unseen acc: 0.0000 | H-mean: 0.0000\n",
      "[Валидация] Top-1 Accuracy: 0.5914, Macro F1: 0.6030\n"
     ]
    },
    {
     "name": "stderr",
     "output_type": "stream",
     "text": [
      "Эпоха 4: 100%|██████████| 799/799 [03:55<00:00,  3.39it/s]\n"
     ]
    },
    {
     "name": "stdout",
     "output_type": "stream",
     "text": [
      "Train loss: 0.5860\n",
      "[GZSL] Seen acc: 0.9061 | Unseen acc: 0.0000 | H-mean: 0.0000\n",
      "[Валидация] Top-1 Accuracy: 0.6080, Macro F1: 0.6033\n"
     ]
    },
    {
     "name": "stderr",
     "output_type": "stream",
     "text": [
      "Эпоха 5: 100%|██████████| 799/799 [03:55<00:00,  3.39it/s]\n"
     ]
    },
    {
     "name": "stdout",
     "output_type": "stream",
     "text": [
      "Train loss: 0.4423\n",
      "[GZSL] Seen acc: 0.9210 | Unseen acc: 0.0000 | H-mean: 0.0000\n",
      "[Валидация] Top-1 Accuracy: 0.6179, Macro F1: 0.6368\n"
     ]
    },
    {
     "name": "stderr",
     "output_type": "stream",
     "text": [
      "Эпоха 6: 100%|██████████| 799/799 [03:55<00:00,  3.39it/s]\n"
     ]
    },
    {
     "name": "stdout",
     "output_type": "stream",
     "text": [
      "Train loss: 0.3421\n",
      "[GZSL] Seen acc: 0.9450 | Unseen acc: 0.0000 | H-mean: 0.0000\n",
      "[Валидация] Top-1 Accuracy: 0.6340, Macro F1: 0.6534\n"
     ]
    },
    {
     "name": "stderr",
     "output_type": "stream",
     "text": [
      "Эпоха 7: 100%|██████████| 799/799 [03:56<00:00,  3.38it/s]\n"
     ]
    },
    {
     "name": "stdout",
     "output_type": "stream",
     "text": [
      "Train loss: 0.2968\n",
      "[GZSL] Seen acc: 0.9633 | Unseen acc: 0.0000 | H-mean: 0.0000\n",
      "[Валидация] Top-1 Accuracy: 0.6463, Macro F1: 0.6593\n"
     ]
    },
    {
     "name": "stderr",
     "output_type": "stream",
     "text": [
      "Эпоха 8: 100%|██████████| 799/799 [03:50<00:00,  3.47it/s]\n"
     ]
    },
    {
     "name": "stdout",
     "output_type": "stream",
     "text": [
      "Train loss: 0.2377\n",
      "[GZSL] Seen acc: 0.9612 | Unseen acc: 0.0000 | H-mean: 0.0000\n",
      "[Валидация] Top-1 Accuracy: 0.6449, Macro F1: 0.6613\n"
     ]
    },
    {
     "name": "stderr",
     "output_type": "stream",
     "text": [
      "Эпоха 9: 100%|██████████| 799/799 [03:49<00:00,  3.49it/s]\n"
     ]
    },
    {
     "name": "stdout",
     "output_type": "stream",
     "text": [
      "Train loss: 0.2198\n",
      "[GZSL] Seen acc: 0.9626 | Unseen acc: 0.0000 | H-mean: 0.0000\n",
      "[Валидация] Top-1 Accuracy: 0.6458, Macro F1: 0.6655\n"
     ]
    },
    {
     "name": "stderr",
     "output_type": "stream",
     "text": [
      "Эпоха 10: 100%|██████████| 799/799 [03:48<00:00,  3.49it/s]\n"
     ]
    },
    {
     "name": "stdout",
     "output_type": "stream",
     "text": [
      "Train loss: 0.1897\n",
      "[GZSL] Seen acc: 0.9478 | Unseen acc: 0.0000 | H-mean: 0.0000\n",
      "[Валидация] Top-1 Accuracy: 0.6359, Macro F1: 0.6522\n",
      "Сохранён чекпоинт: finetuned_openclip_csv.pth_epoch10.pth\n"
     ]
    },
    {
     "name": "stderr",
     "output_type": "stream",
     "text": [
      "Эпоха 11: 100%|██████████| 799/799 [03:48<00:00,  3.50it/s]\n"
     ]
    },
    {
     "name": "stdout",
     "output_type": "stream",
     "text": [
      "Train loss: 0.1554\n",
      "[GZSL] Seen acc: 0.9887 | Unseen acc: 0.0000 | H-mean: 0.0000\n",
      "[Валидация] Top-1 Accuracy: 0.6634, Macro F1: 0.6837\n"
     ]
    },
    {
     "name": "stderr",
     "output_type": "stream",
     "text": [
      "Эпоха 12: 100%|██████████| 799/799 [03:48<00:00,  3.50it/s]\n"
     ]
    },
    {
     "name": "stdout",
     "output_type": "stream",
     "text": [
      "Train loss: 0.1521\n",
      "[GZSL] Seen acc: 0.9859 | Unseen acc: 0.0000 | H-mean: 0.0000\n",
      "[Валидация] Top-1 Accuracy: 0.6615, Macro F1: 0.6817\n"
     ]
    },
    {
     "name": "stderr",
     "output_type": "stream",
     "text": [
      "Эпоха 13: 100%|██████████| 799/799 [03:48<00:00,  3.50it/s]\n"
     ]
    },
    {
     "name": "stdout",
     "output_type": "stream",
     "text": [
      "Train loss: 0.1446\n",
      "[GZSL] Seen acc: 0.9809 | Unseen acc: 0.0000 | H-mean: 0.0000\n",
      "[Валидация] Top-1 Accuracy: 0.6581, Macro F1: 0.6748\n"
     ]
    },
    {
     "name": "stderr",
     "output_type": "stream",
     "text": [
      "Эпоха 14: 100%|██████████| 799/799 [03:48<00:00,  3.50it/s]\n"
     ]
    },
    {
     "name": "stdout",
     "output_type": "stream",
     "text": [
      "Train loss: 0.1259\n",
      "[GZSL] Seen acc: 0.9845 | Unseen acc: 0.0000 | H-mean: 0.0000\n",
      "[Валидация] Top-1 Accuracy: 0.6605, Macro F1: 0.6807\n"
     ]
    },
    {
     "name": "stderr",
     "output_type": "stream",
     "text": [
      "Эпоха 15: 100%|██████████| 799/799 [03:48<00:00,  3.50it/s]\n"
     ]
    },
    {
     "name": "stdout",
     "output_type": "stream",
     "text": [
      "Train loss: 0.1412\n",
      "[GZSL] Seen acc: 0.9852 | Unseen acc: 0.0000 | H-mean: 0.0000\n",
      "[Валидация] Top-1 Accuracy: 0.6610, Macro F1: 0.6708\n"
     ]
    },
    {
     "name": "stderr",
     "output_type": "stream",
     "text": [
      "Эпоха 16: 100%|██████████| 799/799 [04:03<00:00,  3.28it/s]\n"
     ]
    },
    {
     "name": "stdout",
     "output_type": "stream",
     "text": [
      "Train loss: 0.1129\n",
      "[GZSL] Seen acc: 0.9866 | Unseen acc: 0.0000 | H-mean: 0.0000\n",
      "[Валидация] Top-1 Accuracy: 0.6619, Macro F1: 0.6823\n"
     ]
    },
    {
     "name": "stderr",
     "output_type": "stream",
     "text": [
      "Эпоха 17: 100%|██████████| 799/799 [04:01<00:00,  3.31it/s]\n"
     ]
    },
    {
     "name": "stdout",
     "output_type": "stream",
     "text": [
      "Train loss: 0.1111\n",
      "[GZSL] Seen acc: 0.9845 | Unseen acc: 0.0000 | H-mean: 0.0000\n",
      "[Валидация] Top-1 Accuracy: 0.6605, Macro F1: 0.6808\n"
     ]
    },
    {
     "name": "stderr",
     "output_type": "stream",
     "text": [
      "Эпоха 18: 100%|██████████| 799/799 [03:48<00:00,  3.49it/s]\n"
     ]
    },
    {
     "name": "stdout",
     "output_type": "stream",
     "text": [
      "Train loss: 0.0985\n",
      "[GZSL] Seen acc: 0.9774 | Unseen acc: 0.0000 | H-mean: 0.0000\n",
      "[Валидация] Top-1 Accuracy: 0.6558, Macro F1: 0.6765\n"
     ]
    },
    {
     "name": "stderr",
     "output_type": "stream",
     "text": [
      "Эпоха 19: 100%|██████████| 799/799 [03:48<00:00,  3.50it/s]\n"
     ]
    },
    {
     "name": "stdout",
     "output_type": "stream",
     "text": [
      "Train loss: 0.1038\n",
      "[GZSL] Seen acc: 0.9922 | Unseen acc: 0.0000 | H-mean: 0.0000\n",
      "[Валидация] Top-1 Accuracy: 0.6657, Macro F1: 0.6825\n"
     ]
    },
    {
     "name": "stderr",
     "output_type": "stream",
     "text": [
      "Эпоха 20: 100%|██████████| 799/799 [03:48<00:00,  3.50it/s]\n"
     ]
    },
    {
     "name": "stdout",
     "output_type": "stream",
     "text": [
      "Train loss: 0.1053\n",
      "[GZSL] Seen acc: 0.9880 | Unseen acc: 0.0000 | H-mean: 0.0000\n",
      "[Валидация] Top-1 Accuracy: 0.6629, Macro F1: 0.6831\n",
      "Сохранён чекпоинт: finetuned_openclip_csv.pth_epoch20.pth\n"
     ]
    },
    {
     "name": "stderr",
     "output_type": "stream",
     "text": [
      "Эпоха 21: 100%|██████████| 799/799 [03:51<00:00,  3.45it/s]\n"
     ]
    },
    {
     "name": "stdout",
     "output_type": "stream",
     "text": [
      "Train loss: 0.0832\n",
      "[GZSL] Seen acc: 0.9831 | Unseen acc: 0.0000 | H-mean: 0.0000\n",
      "[Валидация] Top-1 Accuracy: 0.6596, Macro F1: 0.6794\n"
     ]
    },
    {
     "name": "stderr",
     "output_type": "stream",
     "text": [
      "Эпоха 22: 100%|██████████| 799/799 [03:52<00:00,  3.43it/s]\n"
     ]
    },
    {
     "name": "stdout",
     "output_type": "stream",
     "text": [
      "Train loss: 0.0867\n",
      "[GZSL] Seen acc: 0.9894 | Unseen acc: 0.0000 | H-mean: 0.0000\n",
      "[Валидация] Top-1 Accuracy: 0.6638, Macro F1: 0.6809\n"
     ]
    },
    {
     "name": "stderr",
     "output_type": "stream",
     "text": [
      "Эпоха 23: 100%|██████████| 799/799 [03:51<00:00,  3.45it/s]\n"
     ]
    },
    {
     "name": "stdout",
     "output_type": "stream",
     "text": [
      "Train loss: 0.0818\n",
      "[GZSL] Seen acc: 0.9809 | Unseen acc: 0.0000 | H-mean: 0.0000\n",
      "[Валидация] Top-1 Accuracy: 0.6581, Macro F1: 0.6754\n"
     ]
    },
    {
     "name": "stderr",
     "output_type": "stream",
     "text": [
      "Эпоха 24: 100%|██████████| 799/799 [03:48<00:00,  3.50it/s]\n"
     ]
    },
    {
     "name": "stdout",
     "output_type": "stream",
     "text": [
      "Train loss: 0.0769\n",
      "[GZSL] Seen acc: 0.9894 | Unseen acc: 0.0000 | H-mean: 0.0000\n",
      "[Валидация] Top-1 Accuracy: 0.6638, Macro F1: 0.6842\n"
     ]
    },
    {
     "name": "stderr",
     "output_type": "stream",
     "text": [
      "Эпоха 25: 100%|██████████| 799/799 [03:48<00:00,  3.49it/s]\n"
     ]
    },
    {
     "name": "stdout",
     "output_type": "stream",
     "text": [
      "Train loss: 0.0782\n",
      "[GZSL] Seen acc: 0.9922 | Unseen acc: 0.0000 | H-mean: 0.0000\n",
      "[Валидация] Top-1 Accuracy: 0.6657, Macro F1: 0.6862\n"
     ]
    },
    {
     "name": "stderr",
     "output_type": "stream",
     "text": [
      "Эпоха 26: 100%|██████████| 799/799 [03:48<00:00,  3.50it/s]\n"
     ]
    },
    {
     "name": "stdout",
     "output_type": "stream",
     "text": [
      "Train loss: 0.0835\n",
      "[GZSL] Seen acc: 0.9901 | Unseen acc: 0.0000 | H-mean: 0.0000\n",
      "[Валидация] Top-1 Accuracy: 0.6643, Macro F1: 0.6847\n"
     ]
    },
    {
     "name": "stderr",
     "output_type": "stream",
     "text": [
      "Эпоха 27: 100%|██████████| 799/799 [03:48<00:00,  3.50it/s]\n"
     ]
    },
    {
     "name": "stdout",
     "output_type": "stream",
     "text": [
      "Train loss: 0.0721\n",
      "[GZSL] Seen acc: 0.9817 | Unseen acc: 0.0000 | H-mean: 0.0000\n",
      "[Валидация] Top-1 Accuracy: 0.6586, Macro F1: 0.6720\n"
     ]
    },
    {
     "name": "stderr",
     "output_type": "stream",
     "text": [
      "Эпоха 28: 100%|██████████| 799/799 [03:48<00:00,  3.50it/s]\n"
     ]
    },
    {
     "name": "stdout",
     "output_type": "stream",
     "text": [
      "Train loss: 0.0731\n",
      "[GZSL] Seen acc: 0.9951 | Unseen acc: 0.0000 | H-mean: 0.0000\n",
      "[Валидация] Top-1 Accuracy: 0.6676, Macro F1: 0.6881\n"
     ]
    },
    {
     "name": "stderr",
     "output_type": "stream",
     "text": [
      "Эпоха 29: 100%|██████████| 799/799 [03:48<00:00,  3.50it/s]\n"
     ]
    },
    {
     "name": "stdout",
     "output_type": "stream",
     "text": [
      "Train loss: 0.0600\n",
      "[GZSL] Seen acc: 0.9951 | Unseen acc: 0.0000 | H-mean: 0.0000\n",
      "[Валидация] Top-1 Accuracy: 0.6676, Macro F1: 0.6845\n"
     ]
    },
    {
     "name": "stderr",
     "output_type": "stream",
     "text": [
      "Эпоха 30: 100%|██████████| 799/799 [03:48<00:00,  3.50it/s]\n"
     ]
    },
    {
     "name": "stdout",
     "output_type": "stream",
     "text": [
      "Train loss: 0.0642\n",
      "[GZSL] Seen acc: 0.9894 | Unseen acc: 0.0000 | H-mean: 0.0000\n",
      "[Валидация] Top-1 Accuracy: 0.6638, Macro F1: 0.6804\n",
      "Сохранён чекпоинт: finetuned_openclip_csv.pth_epoch30.pth\n",
      "Обучение завершено. Модель сохранена.\n"
     ]
    }
   ],
   "source": [
    "for epoch in range(NUM_EPOCHS):\n",
    "    model.train()\n",
    "    total_loss = 0\n",
    "    for images, labels in tqdm(train_loader, desc=f\"Эпоха {epoch+1}\"):\n",
    "        images, labels = images.to(DEVICE), labels.to(DEVICE)\n",
    "        with torch.no_grad():\n",
    "            text_features = model.encode_text(text_tokens)\n",
    "            text_features = text_features / text_features.norm(dim=-1, keepdim=True)\n",
    "        image_features = model.encode_image(images)\n",
    "        image_features = image_features / image_features.norm(dim=-1, keepdim=True)\n",
    "        logits = 100. * image_features @ text_features.T\n",
    "        loss = loss_fn(logits, labels)\n",
    "        optimizer.zero_grad()\n",
    "        loss.backward()\n",
    "        optimizer.step()\n",
    "        total_loss += loss.item()\n",
    "    avg_train_loss = total_loss / len(train_loader)\n",
    "    train_losses.append(avg_train_loss)\n",
    "    print(f\"Train loss: {avg_train_loss:.4f}\")\n",
    "\n",
    "    # === Валидация ===\n",
    "    model.eval()\n",
    "    preds, trues = [], []\n",
    "    with torch.no_grad():\n",
    "        for images, labels in val_loader:\n",
    "            images = images.to(DEVICE)\n",
    "            text_features = model.encode_text(text_tokens)\n",
    "            text_features = text_features / text_features.norm(dim=-1, keepdim=True)\n",
    "            image_features = model.encode_image(images)\n",
    "            image_features = image_features / image_features.norm(dim=-1, keepdim=True)\n",
    "            logits = 100. * image_features @ text_features.T\n",
    "            pred = logits.argmax(dim=1).cpu().numpy()\n",
    "            preds.extend(pred)\n",
    "            trues.extend(labels.cpu().numpy())\n",
    "\n",
    "    idx_to_class = {i: c for i, c in enumerate(class_names)}\n",
    "    trues_cls = [idx_to_class[i] for i in trues]\n",
    "    preds_cls = [idx_to_class[i] for i in preds]\n",
    "    seen_acc, unseen_acc, h_mean = compute_gzsl(trues_cls, preds_cls, seen_classes, unseen_classes)\n",
    "    print(f\"[GZSL] Seen acc: {seen_acc:.4f} | Unseen acc: {unseen_acc:.4f} | H-mean: {h_mean:.4f}\")\n",
    "    gzsl_seen_accs.append(seen_acc)\n",
    "    gzsl_unseen_accs.append(unseen_acc)\n",
    "    gzsl_hmeans.append(h_mean)\n",
    "\n",
    "\n",
    "\n",
    "    acc = accuracy_score(trues, preds)\n",
    "    macro_f1 = f1_score(trues, preds, average='macro')\n",
    "    val_accuracies.append(acc)\n",
    "    val_f1s.append(macro_f1)\n",
    "    \n",
    "    print(f\"[Валидация] Top-1 Accuracy: {acc:.4f}, Macro F1: {macro_f1:.4f}\")\n",
    "    if (epoch + 1) % 10 == 0:\n",
    "        checkpoint_path = f\"{CHECKPOINT_PATH}_epoch{epoch+1}.pth\"\n",
    "        torch.save(model.state_dict(), checkpoint_path)\n",
    "        print(f\"Сохранён чекпоинт: {checkpoint_path}\")\n",
    "\n",
    "# Итоговое сохранение\n",
    "torch.save(model.state_dict(), CHECKPOINT_PATH)\n",
    "print(\"Обучение завершено. Модель сохранена.\")"
   ]
  },
  {
   "cell_type": "code",
   "execution_count": 8,
   "metadata": {},
   "outputs": [
    {
     "data": {
      "image/png": "[encoded data removed]",
      "text/plain": [
       "<Figure size 1000x400 with 2 Axes>"
      ]
     },
     "metadata": {},
     "output_type": "display_data"
    }
   ],
   "source": []
  },
  {
   "cell_type": "code",
   "execution_count": 9,
   "metadata": {},
   "outputs": [],
   "source": [
    "test_dataset = CsvImageDataset(CSV_PATH, split='test', transform=val_transform)\n",
    "test_loader  = DataLoader(test_dataset, batch_size=BATCH_SIZE, shuffle=False, num_workers=NUM_WORKERS)"
   ]
  },
  {
   "cell_type": "code",
   "execution_count": null,
   "metadata": {},
   "outputs": [],
   "source": []
  },
  {
   "cell_type": "code",
   "execution_count": 15,
   "metadata": {},
   "outputs": [],
   "source": [
    "def evaluate_on_domain(model, data_loader, text_tokens, class_names, seen_classes, unseen_classes, domain_name):\n",
    "    model.eval()\n",
    "    preds, trues = [], []\n",
    "    with torch.no_grad():\n",
    "        for images, labels in data_loader:\n",
    "            images = images.to(DEVICE)\n",
    "            text_features = model.encode_text(text_tokens)\n",
    "            text_features = text_features / text_features.norm(dim=-1, keepdim=True)\n",
    "            image_features = model.encode_image(images)\n",
    "            image_features = image_features / image_features.norm(dim=-1, keepdim=True)\n",
    "            logits = 100. * image_features @ text_features.T\n",
    "            pred = logits.argmax(dim=1).cpu().numpy()\n",
    "            preds.extend(pred)\n",
    "            trues.extend(labels.cpu().numpy())\n",
    "    acc = accuracy_score(trues, preds)\n",
    "    macro_f1 = f1_score(trues, preds, average='macro')\n",
    "    print(f\"[{domain_name} Test] Top-1 Accuracy: {acc:.4f}, Macro F1: {macro_f1:.4f}\")\n",
    "\n",
    "    idx_to_class = {i: c for i, c in enumerate(class_names)}\n",
    "    trues_cls = [idx_to_class[i] for i in trues]\n",
    "    preds_cls = [idx_to_class[i] for i in preds]\n",
    "    seen_acc, unseen_acc, h_mean = compute_gzsl(trues_cls, preds_cls, seen_classes, unseen_classes)\n",
    "    print(f\"[{domain_name} GZSL] Seen acc: {seen_acc:.4f} | Unseen acc: {unseen_acc:.4f} | H-mean: {h_mean:.4f}\")\n",
    "    return acc, macro_f1, seen_acc, unseen_acc, h_mean"
   ]
  },
  {
   "cell_type": "code",
   "execution_count": null,
   "metadata": {},
   "outputs": [],
   "source": []
  },
  {
   "cell_type": "code",
   "execution_count": null,
   "metadata": {},
   "outputs": [
    {
     "name": "stdout",
     "output_type": "stream",
     "text": [
      "[CUB_200_2011_split Test] Top-1 Accuracy: 0.5728, Macro F1: 0.5472\n",
      "[CUB_200_2011_split GZSL] Seen acc: 0.0000 | Unseen acc: 0.5728 | H-mean: 0.0000\n",
      "[dtd_split Test] Top-1 Accuracy: 0.4898, Macro F1: 0.4508\n",
      "[dtd_split GZSL] Seen acc: 0.0000 | Unseen acc: 0.4898 | H-mean: 0.0000\n",
      "[fungi_clef_2022_split Test] Top-1 Accuracy: 0.2034, Macro F1: 0.1598\n",
      "[fungi_clef_2022_split GZSL] Seen acc: 0.0000 | Unseen acc: 0.2034 | H-mean: 0.0000\n"
     ]
    },
    {
     "ename": "",
     "evalue": "",
     "output_type": "error",
     "traceback": [
      "\u001b[1;31mThe Kernel crashed while executing code in the current cell or a previous cell. \n",
      "\u001b[1;31mPlease review the code in the cell(s) to identify a possible cause of the failure. \n",
      "\u001b[1;31mClick <a href='https://aka.ms/vscodeJupyterKernelCrash'>here</a> for more info. \n",
      "\u001b[1;31mView Jupyter <a href='command:jupyter.viewOutput'>log</a> for further details."
     ]
    }
   ],
   "source": [
    "for domain in DATASET_DIRS:\n",
    "    # Фильтруем по нужному домену и 'test'\n",
    "    domain_df = df[(df['split'] == 'test') & (df['domain'] == domain)].reset_index(drop=True)\n",
    "    if len(domain_df) == 0:\n",
    "        continue\n",
    "    # Создаём датасет для этого домена\n",
    "    domain_dataset = CsvImageDataset(CSV_PATH, split='test', transform=val_transform)\n",
    "    # Переопределяем выборку: только текущий домен\n",
    "    domain_dataset.df = domain_df\n",
    "    # Если класс_names/мэппинг отличается, пересоздай их:\n",
    "    domain_dataset.class_names = sorted(domain_dataset.df['class_name'].unique())\n",
    "    domain_dataset.class_to_idx = {cls: i for i, cls in enumerate(domain_dataset.class_names)}\n",
    "    domain_loader = DataLoader(domain_dataset, batch_size=BATCH_SIZE, shuffle=False, num_workers=NUM_WORKERS)\n",
    "\n",
    "    # Для каждого домена пересчитай seen/unseen (на всякий случай)\n",
    "    train_classes = set(df[df['split'] == 'train']['class_name'].unique())\n",
    "    test_classes = set(domain_df['class_name'].unique())\n",
    "    unseen_classes = test_classes - train_classes\n",
    "    seen_classes = train_classes & test_classes\n",
    "\n",
    "    # Промпты (пересчитай для каждого подмножества классов!)\n",
    "    prompts = [f\"a photo of a {c}\" for c in domain_dataset.class_names]\n",
    "    text_tokens = tokenizer(prompts).to(DEVICE)\n",
    "\n",
    "    # Вызов функции\n",
    "    evaluate_on_domain(\n",
    "        model, domain_loader, text_tokens, domain_dataset.class_names,\n",
    "        seen_classes, unseen_classes, domain\n",
    "    )"
   ]
  },
  {
   "cell_type": "code",
   "execution_count": null,
   "metadata": {},
   "outputs": [],
   "source": []
  },
  {
   "cell_type": "code",
   "execution_count": 1,
   "metadata": {},
   "outputs": [],
   "source": [
    "import torch\n",
    "import open_clip\n",
    "from torch.utils.data import DataLoader\n",
    "from sklearn.metrics import f1_score, accuracy_score\n",
    "from tqdm import tqdm\n",
    "\n",
    "# === Конфиги ===\n",
    "CSV_PATH = 'merged_dataset_v2.csv'\n",
    "BATCH_SIZE = 64\n",
    "NUM_WORKERS = 0\n",
    "NUM_EPOCHS = 100\n",
    "LR = 1e-5\n",
    "DEVICE = 'cuda' if torch.cuda.is_available() else 'cpu'\n",
    "MODEL_NAME = 'ViT-B-32'\n",
    "PRETRAINED = 'laion2b_s34b_b79k'\n",
    "CHECKPOINT_PATH = 'finetuned_openclip_v1.pth'\n",
    "\n",
    "SPLITS = ['train', 'val', 'test', 'обучение', 'валидация', 'тест']  # можно адаптировать под свой CSV"
   ]
  },
  {
   "cell_type": "code",
   "execution_count": 2,
   "metadata": {},
   "outputs": [],
   "source": []
  },
  {
   "cell_type": "code",
   "execution_count": 3,
   "metadata": {},
   "outputs": [
    {
     "ename": "NameError",
     "evalue": "name 'pd' is not defined",
     "output_type": "error",
     "traceback": [
      "\u001b[1;31m---------------------------------------------------------------------------\u001b[0m",
      "\u001b[1;31mNameError\u001b[0m                                 Traceback (most recent call last)",
      "Cell \u001b[1;32mIn[3], line 1\u001b[0m\n\u001b[1;32m----> 1\u001b[0m df \u001b[38;5;241m=\u001b[39m \u001b[43mpd\u001b[49m\u001b[38;5;241m.\u001b[39mread_csv(CSV_PATH)\n\u001b[0;32m      2\u001b[0m all_classes \u001b[38;5;241m=\u001b[39m \u001b[38;5;28msorted\u001b[39m(df[\u001b[38;5;124m'\u001b[39m\u001b[38;5;124mclass_name\u001b[39m\u001b[38;5;124m'\u001b[39m]\u001b[38;5;241m.\u001b[39munique()\u001b[38;5;241m.\u001b[39mtolist())\n\u001b[0;32m      4\u001b[0m \u001b[38;5;66;03m# --- Датасеты ---\u001b[39;00m\n",
      "\u001b[1;31mNameError\u001b[0m: name 'pd' is not defined"
     ]
    }
   ],
   "source": [
    "df = pd.read_csv(CSV_PATH)\n",
    "all_classes = sorted(df['class_name'].unique().tolist())\n",
    "\n",
    "# --- Датасеты ---\n",
    "train_dataset = CsvImageDataset(CSV_PATH, split='train', transform=train_transform, class_names=all_classes)\n",
    "val_dataset   = CsvImageDataset(CSV_PATH, split='val',   transform=val_transform, class_names=all_classes)\n",
    "\n",
    "train_loader  = DataLoader(train_dataset, batch_size=BATCH_SIZE, shuffle=True, num_workers=NUM_WORKERS)\n",
    "val_loader    = DataLoader(val_dataset, batch_size=BATCH_SIZE, shuffle=False, num_workers=NUM_WORKERS)\n",
    "\n",
    "idx_to_class = {i: c for i, c in enumerate(all_classes)}\n",
    "class_to_idx = {c: i for i, c in enumerate(all_classes)}\n",
    "\n",
    "# --- Seen/Unseen классы ---\n",
    "train_classes = set(df[df['split'] == 'train']['class_name'].unique())\n",
    "val_classes = set(df[df['split'] == 'val']['class_name'].unique())\n",
    "unseen_classes = val_classes - train_classes\n",
    "seen_classes = train_classes & val_classes\n",
    "\n",
    "# --- Текстовые эмбеддинги для всех классов ---\n",
    "tokenizer = open_clip.get_tokenizer(MODEL_NAME)\n",
    "prompts = [f\"{c}\" for c in all_classes]\n",
    "text_tokens = tokenizer(prompts).to(DEVICE)\n",
    "with torch.no_grad():\n",
    "    text_features = open_clip.create_model_and_transforms(MODEL_NAME, pretrained=PRETRAINED)[0].to(DEVICE).encode_text(text_tokens)\n",
    "    text_features = text_features / text_features.norm(dim=-1, keepdim=True)\n",
    "\n",
    "# --- Модель (разморозка только visual encoder) ---\n",
    "model, _, _ = open_clip.create_model_and_transforms(MODEL_NAME, pretrained=PRETRAINED)\n",
    "model = model.to(DEVICE)\n",
    "for p in model.parameters():\n",
    "    p.requires_grad = False\n",
    "for p in model.visual.parameters():\n",
    "    p.requires_grad = True\n",
    "optimizer = torch.optim.AdamW(filter(lambda p: p.requires_grad, model.parameters()), lr=LR, weight_decay=1e-3)\n",
    "loss_fn = torch.nn.CrossEntropyLoss()\n",
    "\n",
    "# --- Обучение и валидация ---\n",
    "train_losses, val_accuracies, val_f1s = [], [], []\n",
    "gzsl_seen_accs, gzsl_unseen_accs, gzsl_hmeans = [], [], []\n",
    "\n",
    "for epoch in range(NUM_EPOCHS):\n",
    "    # === Train ===\n",
    "    model.train()\n",
    "    total_loss = 0\n",
    "    for images, labels in tqdm(train_loader, desc=f\"Эпоха {epoch+1}\"):\n",
    "        images, labels = images.to(DEVICE), labels.to(DEVICE)\n",
    "        image_features = model.encode_image(images)\n",
    "        image_features = image_features / image_features.norm(dim=-1, keepdim=True)\n",
    "        logits = 100. * image_features @ text_features.T\n",
    "        loss = loss_fn(logits, labels)\n",
    "        optimizer.zero_grad()\n",
    "        loss.backward()\n",
    "        optimizer.step()\n",
    "        total_loss += loss.item()\n",
    "    avg_train_loss = total_loss / len(train_loader)\n",
    "    train_losses.append(avg_train_loss)\n",
    "    print(f\"Train loss: {avg_train_loss:.4f}\")\n",
    "\n",
    "    # === Validation ===\n",
    "    model.eval()\n",
    "    preds, trues = [], []\n",
    "    with torch.no_grad():\n",
    "        for images, labels in tqdm(val_loader, desc='Валидация'):\n",
    "            images = images.to(DEVICE)\n",
    "            image_features = model.encode_image(images)\n",
    "            image_features = image_features / image_features.norm(dim=-1, keepdim=True)\n",
    "            logits = 100. * image_features @ text_features.T\n",
    "            pred = logits.argmax(dim=1).cpu().numpy()\n",
    "            preds.extend(pred)\n",
    "            trues.extend(labels.cpu().numpy())\n",
    "\n",
    "    # Имена классов для GZSL\n",
    "    trues_cls = [idx_to_class[i] for i in trues]\n",
    "    preds_cls = [idx_to_class[i] for i in preds]\n",
    "    seen_acc, unseen_acc, h_mean = compute_gzsl(trues_cls, preds_cls, seen_classes, unseen_classes)\n",
    "    print(f\"[GZSL] Seen acc: {seen_acc:.4f} | Unseen acc: {unseen_acc:.4f} | H-mean: {h_mean:.4f}\")\n",
    "    gzsl_seen_accs.append(seen_acc)\n",
    "    gzsl_unseen_accs.append(unseen_acc)\n",
    "    gzsl_hmeans.append(h_mean)\n",
    "\n",
    "    # Accuracy & F1\n",
    "    acc = accuracy_score(trues, preds)\n",
    "    macro_f1 = f1_score(trues, preds, average='macro')\n",
    "    val_accuracies.append(acc)\n",
    "    val_f1s.append(macro_f1)\n",
    "    print(f\"[Валидация] Top-1 Accuracy: {acc:.4f}, Macro F1: {macro_f1:.4f}\")\n",
    "\n",
    "    # Чекпоинт\n",
    "    if (epoch + 1) % 10 == 0:\n",
    "        checkpoint_path = f\"{CHECKPOINT_PATH}_epoch{epoch+1}.pth\"\n",
    "        torch.save(model.state_dict(), checkpoint_path)\n",
    "        print(f\"Сохранён чекпоинт: {checkpoint_path}\")\n",
    "\n",
    "# --- Финальное сохранение ---\n",
    "torch.save(model.state_dict(), CHECKPOINT_PATH)\n",
    "print(\"Обучение завершено. Модель сохранена.\")"
   ]
  },
  {
   "cell_type": "code",
   "execution_count": null,
   "metadata": {},
   "outputs": [],
   "source": []
  },
  {
   "cell_type": "code",
   "execution_count": null,
   "metadata": {},
   "outputs": [],
   "source": []
  }
 ],
 "metadata": {
  "kernelspec": {
   "display_name": ".venv",
   "language": "python",
   "name": "python3"
  },
  "language_info": {
   "codemirror_mode": {
    "name": "ipython",
    "version": 3
   },
   "file_extension": ".py",
   "mimetype": "text/x-python",
   "name": "python",
   "nbconvert_exporter": "python",
   "pygments_lexer": "ipython3",
   "version": "3.11.6"
  }
 },
 "nbformat": 4,
 "nbformat_minor": 2
}
